{
 "cells": [
  {
   "cell_type": "markdown",
   "source": [
    "# 3. Generadores\r\n",
    "\r\n",
    "Antes de nada, veamos un repaso de los iteradores. De acuerdo con Wikipedia, un iterador es un objeto que permite a un programador recorrer un contenedor, como podría ser una lista. Sin embargo, los iteradores recorren el contenedor y proveen acceso a los elementos del mismo, pero no realizan la iteración propiamente dicha. Hay tres conceptos que es necesario entender:\r\n",
    "\r\n",
    "* Iterable\r\n",
    "* Iterador\r\n",
    "* Iteración\r\n",
    "\r\n",
    "Todos ellos están relacionados entre sí. A continuación los explicaremos unos por uno."
   ],
   "metadata": {}
  },
  {
   "cell_type": "markdown",
   "source": [
    "## 3.1 Iterable\r\n",
    "Un iterable es cualquier objeto en Python que implementa el método __iter__ o __getitem__, es decir, que devuelve un iterador que puede ser indexado. Puedes leer más acerca de esto aquí. En otras palabras, un iterable es un objeto que nos puede proporcionar un iterador. ¿Pero qué es un iterador?\r\n",
    "\r\n",
    "## 3.2 Iterador\r\n",
    "Un iterador es cualquier objeto en Python que tenga definidos los métodos next (Python 2) o __next__. Sabido esto, vamos a ver ahora que es una iteración.\r\n",
    "\r\n",
    "## 3.3 Iteración\r\n",
    "La iteración es el proceso que seguimos cuando vamos tomando diferentes elementos de una lista, es decir, la vamos iterando. Cuando usamos un bucle para iterar sobre un elemento determinado, esto es una iteración. Es el nombre que se le da al proceso.\r\n",
    "Una vez sabido esto, vamos a ver su relación con los generadores.\r\n",
    "\r\n",
    "## 3.4 Generadores\r\n",
    "Los generadores son en realidad iteradores, pero sólo permiten ser iterados una vez. Esto se debe a que no almacenan todos los valores en memoria, sino que los van generando al vuelo. Pueden ser usados de dos formas diferentes, iterándolos con un bucle for o pasándolos a una función como veremos a continuación.\r\n",
    "La mayoría de las veces, los generadores son implementados como funciones. Sin embargo no devuelven los valores con return sino que lo hacen usando yield. Veamos un ejemplo sencillo de una función generadora. No se trata de un ejemplo demasiado práctico, pero sirve para ilustrar su funcionamiento. Los generadores son más útiles cuando es necesario realizar cálculos para un número muy elevado de elementos. Es decir, son útiles cuando no quieres tener en memoria todos los elementos a la vez, ya que sería demasiado\r\n"
   ],
   "metadata": {}
  },
  {
   "cell_type": "markdown",
   "source": [],
   "metadata": {}
  },
  {
   "cell_type": "code",
   "execution_count": 4,
   "source": [
    "def funcion_generadora():\r\n",
    "    for i in range(4):\r\n",
    "        yield i\r\n",
    "\r\n",
    "for item in funcion_generadora():\r\n",
    "    print(item)"
   ],
   "outputs": [
    {
     "output_type": "stream",
     "name": "stdout",
     "text": [
      "0\n",
      "1\n",
      "2\n",
      "3\n"
     ]
    }
   ],
   "metadata": {}
  },
  {
   "cell_type": "markdown",
   "source": [
    "Hasta ahora hemos explicado el uso de los generators pero no hemos llegado a probarlos. Antes de probarlos, es necesario saber un poco más acerca de la función next() de Python. Esta función nos permite acceder al siguiente elemento de una secuencia:"
   ],
   "metadata": {}
  },
  {
   "cell_type": "code",
   "execution_count": 7,
   "source": [
    "gen = funcion_generadora()\r\n",
    "print(next(gen))\r\n",
    "print(next(gen))\r\n",
    "print(next(gen))\r\n",
    "print(next(gen))\r\n",
    "print(next(gen))"
   ],
   "outputs": [
    {
     "output_type": "stream",
     "name": "stdout",
     "text": [
      "0\n",
      "1\n",
      "2\n",
      "3\n"
     ]
    },
    {
     "output_type": "error",
     "ename": "StopIteration",
     "evalue": "",
     "traceback": [
      "\u001b[1;31m---------------------------------------------------------------------------\u001b[0m",
      "\u001b[1;31mStopIteration\u001b[0m                             Traceback (most recent call last)",
      "\u001b[1;32m<ipython-input-7-1855d730878f>\u001b[0m in \u001b[0;36m<module>\u001b[1;34m\u001b[0m\n\u001b[0;32m      4\u001b[0m \u001b[0mprint\u001b[0m\u001b[1;33m(\u001b[0m\u001b[0mnext\u001b[0m\u001b[1;33m(\u001b[0m\u001b[0mgen\u001b[0m\u001b[1;33m)\u001b[0m\u001b[1;33m)\u001b[0m\u001b[1;33m\u001b[0m\u001b[1;33m\u001b[0m\u001b[0m\n\u001b[0;32m      5\u001b[0m \u001b[0mprint\u001b[0m\u001b[1;33m(\u001b[0m\u001b[0mnext\u001b[0m\u001b[1;33m(\u001b[0m\u001b[0mgen\u001b[0m\u001b[1;33m)\u001b[0m\u001b[1;33m)\u001b[0m\u001b[1;33m\u001b[0m\u001b[1;33m\u001b[0m\u001b[0m\n\u001b[1;32m----> 6\u001b[1;33m \u001b[0mprint\u001b[0m\u001b[1;33m(\u001b[0m\u001b[0mnext\u001b[0m\u001b[1;33m(\u001b[0m\u001b[0mgen\u001b[0m\u001b[1;33m)\u001b[0m\u001b[1;33m)\u001b[0m\u001b[1;33m\u001b[0m\u001b[1;33m\u001b[0m\u001b[0m\n\u001b[0m",
      "\u001b[1;31mStopIteration\u001b[0m: "
     ]
    }
   ],
   "metadata": {}
  },
  {
   "cell_type": "markdown",
   "source": [
    "Como podemos ver, cuando se llega al final de la función, si se intenta llamar otra vez al next() tendremos un error StopIteration, ya que no hay más valores. Esto se debe a que la función no tiene más valores de los que hacer yield, es decir se ha llegado al final.  Entonces, ¿cómo lo iteramos? Veamos como usar la función iter, que devuelve un objeto iterador (iterator) de una clase iterable.\r\n",
    "\r\n",
    "Entonces, el tipo numérico entero int no es iterable, pero una cadena si que lo es. Veamos el ejemplo para el int:"
   ],
   "metadata": {}
  },
  {
   "cell_type": "code",
   "execution_count": 8,
   "source": [
    "my_string = \"Fer\"\r\n",
    "my_iter = iter(my_string)\r\n",
    "print(next(my_iter))"
   ],
   "outputs": [
    {
     "output_type": "stream",
     "name": "stdout",
     "text": [
      "F\n"
     ]
    }
   ],
   "metadata": {}
  },
  {
   "cell_type": "markdown",
   "source": [
    "Podemos ver entonces como si llamamos a iter sobre un tipo entero, tendremos un error, ya que los enteros no son iterables. Sin embargo, si realizamos lo mismo con una cadena, nos devolverá un iterador sobre el que podemos usar next() para ir accediendo secuencialmente a sus valores hasta llegar al final.\r\n",
    "\r\n",
    "Una vez explicado esto, esperamos que hayas entendido los generators y los conceptos asociados como el iterador o que una clase sea iterable. Los generadores son sin duda una herramienta muy potente, por lo que te recomendamos que tengas los ojos abiertos porque seguramente encontrarás alguna aplicación donde te ayuden a resolver un problema."
   ],
   "metadata": {}
  }
 ],
 "metadata": {
  "orig_nbformat": 4,
  "language_info": {
   "name": "python",
   "version": "3.8.5",
   "mimetype": "text/x-python",
   "codemirror_mode": {
    "name": "ipython",
    "version": 3
   },
   "pygments_lexer": "ipython3",
   "nbconvert_exporter": "python",
   "file_extension": ".py"
  },
  "kernelspec": {
   "name": "python3",
   "display_name": "Python 3.8.5 64-bit ('base': conda)"
  },
  "interpreter": {
   "hash": "d71a4cfe3d8a50c00193755433b4621f113acec37a86d099cf1bae0978d88179"
  }
 },
 "nbformat": 4,
 "nbformat_minor": 2
}
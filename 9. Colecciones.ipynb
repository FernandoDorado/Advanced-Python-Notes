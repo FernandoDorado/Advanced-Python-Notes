{
 "cells": [
  {
   "cell_type": "markdown",
   "id": "0cc2bdcd",
   "metadata": {},
   "source": [
    "# 9. Colecciones"
   ]
  },
  {
   "cell_type": "markdown",
   "id": "da438aae",
   "metadata": {},
   "source": [
    "## 9.1 defaultdict\n",
    "A diferencia de dict con defaultdict no tienes que verificar que una llave o key este presente. Es decir, puedes hacer lo siguiente:"
   ]
  },
  {
   "cell_type": "code",
   "execution_count": 1,
   "id": "52dc339f",
   "metadata": {},
   "outputs": [
    {
     "name": "stdout",
     "output_type": "stream",
     "text": [
      "defaultdict(<class 'list'>, {'Asturias': ['Oviedo', 'Gijón'], 'Galicia': ['Ourense', 'Pontevedra'], 'Extremadura': ['Cáceres'], 'Cataluña': ['Barcelona']})\n"
     ]
    }
   ],
   "source": [
    "from collections import defaultdict\n",
    "\n",
    "colours = (\n",
    "    ('Asturias', 'Oviedo'),\n",
    "    ('Galicia', 'Ourense'),\n",
    "    ('Extremadura', 'Cáceres'),\n",
    "    ('Galicia', 'Pontevedra'),\n",
    "    ('Asturias', 'Gijón'),\n",
    "    ('Cataluña', 'Barcelona'),\n",
    ")\n",
    "\n",
    "ciudades = defaultdict(list)\n",
    "\n",
    "for name, colour in colours:\n",
    "    ciudades[name].append(colour)\n",
    "\n",
    "print(ciudades)\n",
    "\n",
    "# Salida\n",
    "# defaultdict(<type 'list'>,\n",
    "#    {'Extremadura': ['Cáceres'],\n",
    "#     'Asturias': ['Oviedo', 'Gijón'],\n",
    "#     'Cataluña': ['Silver'],\n",
    "#     'Galicia': ['Ourense', 'Pontevedra']\n",
    "# })"
   ]
  },
  {
   "cell_type": "markdown",
   "id": "3a42c4ce",
   "metadata": {},
   "source": [
    "Una de las ocasiones en las que son más útiles, es si quieres añadir elementos a listas anidadas dentro e un diccionario. Si la llave o key no está ya presente en el diccionario, tendrás un error tipo KeyError. El uso de defaultdict permite evitar este problema. Antes de nada, vamos a ver un ejemplo con dict que daría un error KeyError como hemos mencionado, y después veremos la solución usando defaultdict."
   ]
  },
  {
   "cell_type": "code",
   "execution_count": 2,
   "id": "bc31cc76",
   "metadata": {},
   "outputs": [
    {
     "ename": "KeyError",
     "evalue": "'region'",
     "output_type": "error",
     "traceback": [
      "\u001b[0;31m---------------------------------------------------------------------------\u001b[0m",
      "\u001b[0;31mKeyError\u001b[0m                                  Traceback (most recent call last)",
      "\u001b[0;32m<ipython-input-2-0f73ef365314>\u001b[0m in \u001b[0;36m<module>\u001b[0;34m\u001b[0m\n\u001b[1;32m      1\u001b[0m \u001b[0;31m# Problema\u001b[0m\u001b[0;34m\u001b[0m\u001b[0;34m\u001b[0m\u001b[0;34m\u001b[0m\u001b[0m\n\u001b[1;32m      2\u001b[0m \u001b[0msome_dict\u001b[0m \u001b[0;34m=\u001b[0m \u001b[0;34m{\u001b[0m\u001b[0;34m}\u001b[0m\u001b[0;34m\u001b[0m\u001b[0;34m\u001b[0m\u001b[0m\n\u001b[0;32m----> 3\u001b[0;31m \u001b[0msome_dict\u001b[0m\u001b[0;34m[\u001b[0m\u001b[0;34m'region'\u001b[0m\u001b[0;34m]\u001b[0m\u001b[0;34m[\u001b[0m\u001b[0;34m'ciudad'\u001b[0m\u001b[0;34m]\u001b[0m \u001b[0;34m=\u001b[0m \u001b[0;34m\"Oviedo\"\u001b[0m\u001b[0;34m\u001b[0m\u001b[0;34m\u001b[0m\u001b[0m\n\u001b[0m\u001b[1;32m      4\u001b[0m \u001b[0;31m# Raises KeyError: 'region'\u001b[0m\u001b[0;34m\u001b[0m\u001b[0;34m\u001b[0m\u001b[0;34m\u001b[0m\u001b[0m\n",
      "\u001b[0;31mKeyError\u001b[0m: 'region'"
     ]
    }
   ],
   "source": [
    "# Problema\n",
    "some_dict = {}\n",
    "some_dict['region']['ciudad'] = \"Oviedo\"\n",
    "# Raises KeyError: 'region'"
   ]
  },
  {
   "cell_type": "code",
   "execution_count": 7,
   "id": "5992b2cd",
   "metadata": {},
   "outputs": [
    {
     "name": "stdout",
     "output_type": "stream",
     "text": [
      "{\"region\": {\"ciudad\": \"Oviedo\"}}\n"
     ]
    }
   ],
   "source": [
    "# Solución\n",
    "from collections import defaultdict\n",
    "import json\n",
    "\n",
    "tree = lambda: defaultdict(tree)\n",
    "some_dict = tree()\n",
    "some_dict['region']['ciudad'] = \"Oviedo\"\n",
    "\n",
    "print(json.dumps(some_dict))\n",
    "# Output: {\"region\": {\"ciudad\": \"Oviedo\"}}\n",
    "# ¡Funciona!"
   ]
  },
  {
   "cell_type": "markdown",
   "id": "073adfe9",
   "metadata": {},
   "source": [
    "## 9.2 OrderedDict\n",
    "OrderedDict es un diccionario que mantiene ordenadas sus entradas según van siendo añadidas. Es importante saber también que sobreescribir un valor existente no cambia la posición de la llave o key. Sin embargo, eliminar y reinsertar una entrar mueve la llave al final del diccionario."
   ]
  },
  {
   "cell_type": "code",
   "execution_count": 8,
   "id": "e2528bde",
   "metadata": {},
   "outputs": [
    {
     "name": "stdout",
     "output_type": "stream",
     "text": [
      "Rojo 198\n",
      "Verde 170\n",
      "Azul 160\n"
     ]
    }
   ],
   "source": [
    "# Problema\n",
    "\n",
    "colours =  {\"Rojo\" : 198, \"Verde\" : 170, \"Azul\" : 160}\n",
    "for key, value in colours.items():\n",
    "    print(key, value)\n",
    "    \n",
    "# Salida:\n",
    "#   Verde 170\n",
    "#   Azul 160\n",
    "#   Rojo 198\n",
    "# Las entradas son recuperadas en un orden no predecible."
   ]
  },
  {
   "cell_type": "code",
   "execution_count": 9,
   "id": "d936f27b",
   "metadata": {},
   "outputs": [
    {
     "name": "stdout",
     "output_type": "stream",
     "text": [
      "Rojo 198\n",
      "Verde 170\n",
      "Azul 160\n"
     ]
    }
   ],
   "source": [
    "from collections import OrderedDict\n",
    "\n",
    "colours = OrderedDict([(\"Rojo\", 198), (\"Verde\", 170), (\"Azul\", 160)])\n",
    "for key, value in colours.items():\n",
    "    print(key, value)\n",
    "# Output:\n",
    "#   Rojo 198\n",
    "#   Verde 170\n",
    "#   Azul 160\n",
    "# El orden de inserción se mantiene."
   ]
  },
  {
   "cell_type": "markdown",
   "id": "44000c88",
   "metadata": {},
   "source": [
    "## 9.3 Counter\n",
    "El uso de counter nos permite contar el número de elementos que una llave tiene. Por ejemplo, puede ser usado para contar el número de colores favoritos de diferentes personas."
   ]
  },
  {
   "cell_type": "code",
   "execution_count": 10,
   "id": "e60cc1de",
   "metadata": {},
   "outputs": [
    {
     "name": "stdout",
     "output_type": "stream",
     "text": [
      "Counter({'Covadonga': 2, 'Pelayo': 2, 'Xavier': 1, 'Amaya': 1})\n"
     ]
    }
   ],
   "source": [
    "from collections import Counter\n",
    "\n",
    "colours = (\n",
    "    ('Covadonga', 'Amarillo'),\n",
    "    ('Pelayo', 'Azul'),\n",
    "    ('Xavier', 'Verde'),\n",
    "    ('Pelayo', 'Negro'),\n",
    "    ('Covadonga', 'Rojo'),\n",
    "    ('Amaya', 'Plata'),\n",
    ")\n",
    "\n",
    "favs = Counter(name for name, colour in colours)\n",
    "print(favs)\n",
    "# Salida: Counter({\n",
    "#    'Covadonga': 2,\n",
    "#    'Pelayo': 2,\n",
    "#    'Xavier': 1,\n",
    "#    'Amaya': 1\n",
    "# })"
   ]
  },
  {
   "cell_type": "markdown",
   "id": "cb0a5fab",
   "metadata": {},
   "source": [
    "## 9.4 Deque\n",
    "\n",
    "deque proporciona una cola con dos lados, lo que significa que puedes añadir y eliminar elementos de cualquiera de los lados de la cola. Primero debes importar el módulo de la librería de colecciones o collections:"
   ]
  },
  {
   "cell_type": "code",
   "execution_count": 12,
   "id": "25b00800",
   "metadata": {},
   "outputs": [
    {
     "name": "stdout",
     "output_type": "stream",
     "text": [
      "3\n",
      "1\n",
      "3\n"
     ]
    }
   ],
   "source": [
    "from collections import deque\n",
    "d = deque()\n",
    "\n",
    "d.append('1')\n",
    "d.append('2')\n",
    "d.append('3')\n",
    "\n",
    "print(len(d))\n",
    "# Salida: 3\n",
    "\n",
    "print(d[0])\n",
    "# Salida: '1'\n",
    "\n",
    "print(d[-1])\n",
    "# Salida: '3'"
   ]
  },
  {
   "cell_type": "markdown",
   "id": "4f2e8faf",
   "metadata": {},
   "source": [
    "También puedes tomar elementos de los dos lados de la cola, una funcionalidad conocida como pop. Es importante notar que pop devuelve el elemento eliminado."
   ]
  },
  {
   "cell_type": "code",
   "execution_count": 13,
   "id": "a51123fa",
   "metadata": {},
   "outputs": [
    {
     "name": "stdout",
     "output_type": "stream",
     "text": [
      "5\n",
      "deque([1, 2, 3])\n"
     ]
    }
   ],
   "source": [
    "d = deque(range(5))\n",
    "print(len(d))\n",
    "# Salida: 5\n",
    "\n",
    "d.popleft()\n",
    "# Salida: 0\n",
    "\n",
    "d.pop()\n",
    "# Salida: 4\n",
    "\n",
    "print(d)\n",
    "# Salida: deque([1, 2, 3])"
   ]
  },
  {
   "cell_type": "markdown",
   "id": "174b54c5",
   "metadata": {},
   "source": [
    "También podemos limitar la cantidad de elementos que la cola deque puede almacenar. Al hacer esto, simplemente quitará elementos del otro lado de la cola si el límite es superado. Se ve mejor con un ejemplo como se muestra a continuación:"
   ]
  },
  {
   "cell_type": "code",
   "execution_count": 14,
   "id": "a907b7a7",
   "metadata": {},
   "outputs": [
    {
     "name": "stdout",
     "output_type": "stream",
     "text": [
      "deque([0, 1, 2, 3, 5], maxlen=5)\n",
      "deque([1, 2, 3, 5, 6], maxlen=5)\n"
     ]
    }
   ],
   "source": [
    "d = deque([0, 1, 2, 3, 5], maxlen=5)\n",
    "print(d)\n",
    "# Salida: deque([0, 1, 2, 3, 5], maxlen=5)\n",
    "\n",
    "d.extend([6])\n",
    "print(d)\n",
    "#Salida: deque([1, 2, 3, 5, 6], maxlen=5)"
   ]
  },
  {
   "cell_type": "markdown",
   "id": "fd75d1ea",
   "metadata": {},
   "source": [
    "Ahora cuando insertamos valores después del 5, la parte más a la izquierda será eliminada de la lista. También puedes expandir la lista en cualquier dirección con valores nuevos."
   ]
  },
  {
   "cell_type": "code",
   "execution_count": 15,
   "id": "e1d572cf",
   "metadata": {},
   "outputs": [
    {
     "name": "stdout",
     "output_type": "stream",
     "text": [
      "deque([0, 1, 2, 3, 4, 5, 6, 7, 8])\n"
     ]
    }
   ],
   "source": [
    "d = deque([1,2,3,4,5])\n",
    "d.extendleft([0])\n",
    "d.extend([6,7,8])\n",
    "print(d)\n",
    "# Salida: deque([0, 1, 2, 3, 4, 5, 6, 7, 8])"
   ]
  },
  {
   "cell_type": "markdown",
   "id": "2dad4da0",
   "metadata": {},
   "source": [
    "## 9.5 Namedtuple\n",
    "\n",
    "Tal vez conozcas ya las tupas, que son listas inmutables que permiten almacenar una secuencia de valores separados por coma. Son simplemente como las listas pero con algunas diferencias importantes. La principal es que a diferencia de las listas no puedes reasignar el valor de un elemento una vez inicializada. Para acceder a un índice de la tupla se hace de la siguiente manera:"
   ]
  },
  {
   "cell_type": "code",
   "execution_count": 16,
   "id": "57a78806",
   "metadata": {},
   "outputs": [
    {
     "name": "stdout",
     "output_type": "stream",
     "text": [
      "Animal(nombre='perry', edad=31, tipo='cat')\n",
      "perry\n"
     ]
    }
   ],
   "source": [
    "from collections import namedtuple\n",
    "\n",
    "Animal = namedtuple('Animal', 'nombre edad tipo')\n",
    "perry = Animal(nombre=\"perry\", edad=31, tipo=\"cat\")\n",
    "\n",
    "print(perry)\n",
    "# Salida: Animal(nombre='perry', edad=31, tipo='cat')\n",
    "\n",
    "print(perry.nombre)\n",
    "# Salida: 'perry'"
   ]
  },
  {
   "cell_type": "markdown",
   "id": "24ca29ef",
   "metadata": {},
   "source": [
    "Puedes ver como es posible acceder a los elementos a través de su nombre, simplemente haciendo uso de .. Vamos a verlo con más detalle. Una namedtuple requiere de dos argumentos. Estos son, el nombre de la tupla y los campos de la misma. En el ejemplo anterior hemos visto como el nombre de la tupla era “Animal” y tenía tres atributos: “nombre”, “edad” y “tipo”.\n",
    "\n",
    "Las namedtuple son muy útiles ya que hacen que las tuplas tengan una especie de documentación propia, y apenas sea necesaria una explicación de como usarlas, ya que puedes verlo con un simple vistazo al código. Además, dado que no es necesario usar índices, hace que sea más fácil de mantener.\n",
    "\n",
    "Otra de las ventajas es que son bastante ligeras, y no necesitan mas memoria que las tuplas normales. Esto hace que sean mas rápidas que los diccionarios. Sin embargo, recuerda que los atributos de las tuplas son inmutables, por lo que no pueden ser modificados. El siguiente ejemplo no funcionaría:"
   ]
  },
  {
   "cell_type": "code",
   "execution_count": 17,
   "id": "25cceb35",
   "metadata": {},
   "outputs": [
    {
     "ename": "AttributeError",
     "evalue": "can't set attribute",
     "output_type": "error",
     "traceback": [
      "\u001b[0;31m---------------------------------------------------------------------------\u001b[0m",
      "\u001b[0;31mAttributeError\u001b[0m                            Traceback (most recent call last)",
      "\u001b[0;32m<ipython-input-17-d0e473b3ca26>\u001b[0m in \u001b[0;36m<module>\u001b[0;34m\u001b[0m\n\u001b[1;32m      3\u001b[0m \u001b[0mAnimal\u001b[0m \u001b[0;34m=\u001b[0m \u001b[0mnamedtuple\u001b[0m\u001b[0;34m(\u001b[0m\u001b[0;34m'Animal'\u001b[0m\u001b[0;34m,\u001b[0m \u001b[0;34m'nombre edad tipo'\u001b[0m\u001b[0;34m)\u001b[0m\u001b[0;34m\u001b[0m\u001b[0;34m\u001b[0m\u001b[0m\n\u001b[1;32m      4\u001b[0m \u001b[0mperry\u001b[0m \u001b[0;34m=\u001b[0m \u001b[0mAnimal\u001b[0m\u001b[0;34m(\u001b[0m\u001b[0mnombre\u001b[0m\u001b[0;34m=\u001b[0m\u001b[0;34m\"perry\"\u001b[0m\u001b[0;34m,\u001b[0m \u001b[0medad\u001b[0m\u001b[0;34m=\u001b[0m\u001b[0;36m31\u001b[0m\u001b[0;34m,\u001b[0m \u001b[0mtipo\u001b[0m\u001b[0;34m=\u001b[0m\u001b[0;34m\"cat\"\u001b[0m\u001b[0;34m)\u001b[0m\u001b[0;34m\u001b[0m\u001b[0;34m\u001b[0m\u001b[0m\n\u001b[0;32m----> 5\u001b[0;31m \u001b[0mperry\u001b[0m\u001b[0;34m.\u001b[0m\u001b[0medad\u001b[0m \u001b[0;34m=\u001b[0m \u001b[0;36m42\u001b[0m\u001b[0;34m\u001b[0m\u001b[0;34m\u001b[0m\u001b[0m\n\u001b[0m\u001b[1;32m      6\u001b[0m \u001b[0;34m\u001b[0m\u001b[0m\n\u001b[1;32m      7\u001b[0m \u001b[0;31m# Salida: Traceback (most recent call last):\u001b[0m\u001b[0;34m\u001b[0m\u001b[0;34m\u001b[0m\u001b[0;34m\u001b[0m\u001b[0m\n",
      "\u001b[0;31mAttributeError\u001b[0m: can't set attribute"
     ]
    }
   ],
   "source": [
    "from collections import namedtuple\n",
    "\n",
    "Animal = namedtuple('Animal', 'nombre edad tipo')\n",
    "perry = Animal(nombre=\"perry\", edad=31, tipo=\"cat\")\n",
    "perry.edad = 42\n",
    "\n",
    "# Salida: Traceback (most recent call last):\n",
    "#            File \"\", line 1, in\n",
    "#         AttributeError: can't set attribute"
   ]
  }
 ],
 "metadata": {
  "kernelspec": {
   "display_name": "Python 3",
   "language": "python",
   "name": "python3"
  },
  "language_info": {
   "codemirror_mode": {
    "name": "ipython",
    "version": 3
   },
   "file_extension": ".py",
   "mimetype": "text/x-python",
   "name": "python",
   "nbconvert_exporter": "python",
   "pygments_lexer": "ipython3",
   "version": "3.7.10"
  }
 },
 "nbformat": 4,
 "nbformat_minor": 5
}
